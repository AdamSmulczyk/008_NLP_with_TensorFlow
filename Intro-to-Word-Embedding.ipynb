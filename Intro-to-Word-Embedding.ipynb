{
 "cells": [
  {
   "cell_type": "code",
   "execution_count": 1,
   "metadata": {
    "id": "_BHihc4tMw0u"
   },
   "outputs": [],
   "source": [
    "import tensorflow as tf"
   ]
  },
  {
   "cell_type": "code",
   "execution_count": 2,
   "metadata": {
    "id": "CLx6oi1vShc4"
   },
   "outputs": [],
   "source": [
    "embedding_layer = tf.keras.layers.Embedding(1000,5)"
   ]
  },
  {
   "cell_type": "code",
   "execution_count": 3,
   "metadata": {
    "id": "-TemzemZSq8z"
   },
   "outputs": [],
   "source": [
    "result = embedding_layer(tf.constant([1,2,3]))"
   ]
  },
  {
   "cell_type": "code",
   "execution_count": 4,
   "metadata": {
    "colab": {
     "base_uri": "https://localhost:8080/"
    },
    "id": "OcdAKjbnTGdh",
    "outputId": "920799ac-5154-4c9c-9c61-3fb34e36c64d"
   },
   "outputs": [
    {
     "data": {
      "text/plain": [
       "array([[-0.048884  , -0.03095135,  0.00703051, -0.04372076,  0.038636  ],\n",
       "       [-0.03951306,  0.00879525, -0.04569367,  0.0257093 ,  0.03571066],\n",
       "       [-0.0177691 , -0.04077593, -0.04958627,  0.0079196 ,  0.03519316]],\n",
       "      dtype=float32)"
      ]
     },
     "execution_count": 4,
     "metadata": {},
     "output_type": "execute_result"
    }
   ],
   "source": [
    "result.numpy()"
   ]
  },
  {
   "cell_type": "code",
   "execution_count": 5,
   "metadata": {
    "id": "Jz5Yz11TTTfY"
   },
   "outputs": [],
   "source": [
    "model = tf.keras.Sequential()\n",
    "model.add(tf.keras.layers.Embedding(1000,64, input_length=10))"
   ]
  },
  {
   "cell_type": "code",
   "execution_count": 6,
   "metadata": {
    "id": "COU8MlOcUn5n"
   },
   "outputs": [],
   "source": [
    "import numpy as np\n",
    "input_array = np.random.randint(1000, size=(32,10))"
   ]
  },
  {
   "cell_type": "code",
   "execution_count": 7,
   "metadata": {
    "id": "OoV9SiKNU6Cx"
   },
   "outputs": [],
   "source": [
    "model.compile(\"rmsprop\",\"mse\")"
   ]
  },
  {
   "cell_type": "code",
   "execution_count": 8,
   "metadata": {
    "colab": {
     "base_uri": "https://localhost:8080/"
    },
    "id": "YgWBNbuHVGv_",
    "outputId": "89b61738-1173-4f7f-bcb6-796c5ce03591"
   },
   "outputs": [
    {
     "name": "stdout",
     "output_type": "stream",
     "text": [
      "1/1 [==============================] - 0s 191ms/step\n"
     ]
    }
   ],
   "source": [
    "output_array = model.predict(input_array)"
   ]
  },
  {
   "cell_type": "code",
   "execution_count": 9,
   "metadata": {
    "colab": {
     "base_uri": "https://localhost:8080/"
    },
    "id": "Dnt1GF9LVSAI",
    "outputId": "03e2bf29-ebc4-4ce1-9505-ba2f3d1a3904"
   },
   "outputs": [
    {
     "data": {
      "text/plain": [
       "(32, 10, 64)"
      ]
     },
     "execution_count": 9,
     "metadata": {},
     "output_type": "execute_result"
    }
   ],
   "source": [
    "output_array.shape"
   ]
  },
  {
   "cell_type": "code",
   "execution_count": 10,
   "metadata": {
    "colab": {
     "base_uri": "https://localhost:8080/"
    },
    "id": "4xe5w88zVW6n",
    "outputId": "275f5842-db5c-4b54-f3fe-3f9a61f7ec9a"
   },
   "outputs": [
    {
     "data": {
      "text/plain": [
       "array([[560, 840,  91, 444, 874, 413, 146, 459, 522,  36]])"
      ]
     },
     "execution_count": 10,
     "metadata": {},
     "output_type": "execute_result"
    }
   ],
   "source": [
    "input_array[:1]"
   ]
  },
  {
   "cell_type": "code",
   "execution_count": 11,
   "metadata": {
    "colab": {
     "base_uri": "https://localhost:8080/"
    },
    "id": "ygxZZfIYVjxw",
    "outputId": "bd9cbeac-db7b-4fdf-d810-ec0a52041ea4"
   },
   "outputs": [
    {
     "data": {
      "text/plain": [
       "(1, 10, 64)"
      ]
     },
     "execution_count": 11,
     "metadata": {},
     "output_type": "execute_result"
    }
   ],
   "source": [
    "output_array[:1].shape"
   ]
  }
 ],
 "metadata": {
  "colab": {
   "authorship_tag": "ABX9TyOKuyCfr7Y0nIiOyfhu995e",
   "include_colab_link": true,
   "provenance": []
  },
  "kernelspec": {
   "display_name": "Python 3 (ipykernel)",
   "language": "python",
   "name": "python3"
  },
  "language_info": {
   "codemirror_mode": {
    "name": "ipython",
    "version": 3
   },
   "file_extension": ".py",
   "mimetype": "text/x-python",
   "name": "python",
   "nbconvert_exporter": "python",
   "pygments_lexer": "ipython3",
   "version": "3.11.5"
  }
 },
 "nbformat": 4,
 "nbformat_minor": 1
}
